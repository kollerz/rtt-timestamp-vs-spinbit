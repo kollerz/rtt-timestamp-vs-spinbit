{
 "cells": [
  {
   "cell_type": "markdown",
   "metadata": {},
   "source": [
    "We want to find out whether probabilistically adding a measurement header to some of the packets is able to perform more efficiently than using a single bit.\n",
    "\n",
    "In this notebook, we extract TCP flows of a trace and store it as hdf5 for later processing using `libtrace` and `pandas`. \n",
    "\n",
    "##### Getting trace for testing\n",
    "1. Download a trace from [MAWI Traffic Archive](http://mawi.wide.ad.jp/mawi/). This notebook uses a trace from [June 14th, 2018](http://mawi.wide.ad.jp/mawi/samplepoint-F/2018/201806141400.html).\n",
    "2. Trucate to a workable time duration (e.g. 10 seconds) with [tracesplit](https://github.com/LibtraceTeam/libtrace/wiki/tracesplit): `tracesplit -i 10 -m 1 inputuri outputuri`"
   ]
  },
  {
   "cell_type": "code",
   "execution_count": null,
   "metadata": {},
   "outputs": [],
   "source": [
    "TRACE_PATH = '/tmp/trace.pcap'\n",
    "STORE_PATH = '/tmp/flows.hdf5'"
   ]
  },
  {
   "cell_type": "code",
   "execution_count": null,
   "metadata": {},
   "outputs": [],
   "source": [
    "import pandas as pd\n",
    "%matplotlib inline\n",
    "import matplotlib.pyplot as plt\n",
    "plt.style.use('seaborn')\n",
    "from IPython.display import set_matplotlib_formats\n",
    "set_matplotlib_formats('png', 'pdf')\n",
    "\n",
    "import plt as libtrace\n",
    "import sys\n",
    "sys.path.append('src')\n",
    "\n",
    "from managed_trace import managed_trace\n",
    "from tcp_packet import try_read_tcp_packet, TCPPacket"
   ]
  },
  {
   "cell_type": "markdown",
   "metadata": {},
   "source": [
    "We read from the trace, filtering TCP packets, and store the relevant fields of the packets in a list of namedtuples."
   ]
  },
  {
   "cell_type": "code",
   "execution_count": null,
   "metadata": {
    "keep_output": true,
    "scrolled": false
   },
   "outputs": [
    {
     "name": "stdout",
     "output_type": "stream",
     "text": [
      "Could not read 0.06% of packets\n"
     ]
    }
   ],
   "source": [
    "filter_ = libtrace.filter('tcp')\n",
    "with managed_trace(TRACE_PATH) as trace:\n",
    "    trace.conf_filter(filter_)\n",
    "    tcp_packets_with_nones = [try_read_tcp_packet(packet) for packet in trace]\n",
    "tcp_packets = [p for p in tcp_packets_with_nones if p is not None]\n",
    "nones_percentage = (len(tcp_packets_with_nones) - len(tcp_packets)) / len(tcp_packets_with_nones) * 100\n",
    "print('Could not read {:.2f}% of packets'.format(nones_percentage))\n",
    "tcp_df = pd.DataFrame.from_records(tcp_packets, columns=TCPPacket._fields)"
   ]
  },
  {
   "cell_type": "markdown",
   "metadata": {},
   "source": [
    "Now we have a `dataframe` with the following columns:"
   ]
  },
  {
   "cell_type": "code",
   "execution_count": null,
   "metadata": {
    "keep_output": true,
    "scrolled": true
   },
   "outputs": [
    {
     "data": {
      "text/plain": [
       "['timestamp',\n",
       " 'flow_hash',\n",
       " 'direction',\n",
       " 'seq_nr',\n",
       " 'ack_nr',\n",
       " 'flags',\n",
       " 'ts_val',\n",
       " 'ts_ecr',\n",
       " 'payload_length']"
      ]
     },
     "execution_count": 1,
     "metadata": {},
     "output_type": "execute_result"
    }
   ],
   "source": [
    "list(tcp_df)"
   ]
  },
  {
   "cell_type": "markdown",
   "metadata": {},
   "source": [
    "Most of the flows are very short:"
   ]
  },
  {
   "cell_type": "code",
   "execution_count": null,
   "metadata": {
    "keep_output": true
   },
   "outputs": [
    {
     "data": {
      "text/plain": [
       "1.0"
      ]
     },
     "execution_count": 1,
     "metadata": {},
     "output_type": "execute_result"
    }
   ],
   "source": [
    "tcp_df['flow_hash'].value_counts().quantile(0.75)"
   ]
  },
  {
   "cell_type": "markdown",
   "metadata": {},
   "source": [
    "So, we remove all the flows that are shorter than 3."
   ]
  },
  {
   "cell_type": "code",
   "execution_count": null,
   "metadata": {
    "keep_output": true
   },
   "outputs": [
    {
     "data": {
      "text/plain": [
       "19.0"
      ]
     },
     "execution_count": 1,
     "metadata": {},
     "output_type": "execute_result"
    }
   ],
   "source": [
    "flow_lengths = tcp_df['flow_hash'].value_counts()\n",
    "flows_to_keep = set(flow_lengths[flow_lengths >= 3].index.values)\n",
    "indices_to_keep = tcp_df.index[tcp_df['flow_hash'].apply(lambda h: h in flows_to_keep)].tolist()\n",
    "tcp_df = tcp_df.take(list(indices_to_keep))\n",
    "tcp_df['flow_hash'].value_counts().quantile(0.75)"
   ]
  },
  {
   "cell_type": "code",
   "execution_count": null,
   "metadata": {},
   "outputs": [],
   "source": [
    "with pd.HDFStore(STORE_PATH) as store:\n",
    "    store['tcp_df'] = tcp_df"
   ]
  },
  {
   "cell_type": "markdown",
   "metadata": {},
   "source": [
    "## Stats"
   ]
  },
  {
   "cell_type": "code",
   "execution_count": null,
   "metadata": {
    "keep_output": true
   },
   "outputs": [
    {
     "name": "stdout",
     "output_type": "stream",
     "text": [
      "Number of packets: 948626\n",
      "Number of flows: 9736\n"
     ]
    }
   ],
   "source": [
    "packet_counts = tcp_df['flow_hash'].value_counts()\n",
    "print(f'Number of packets: {len(tcp_df)}')\n",
    "print(f'Number of flows: {len(packet_counts)}')"
   ]
  },
  {
   "cell_type": "markdown",
   "metadata": {},
   "source": [
    "Most of the flows are very short, but the tail is heavy:"
   ]
  },
  {
   "cell_type": "code",
   "execution_count": null,
   "metadata": {
    "keep_output": true,
    "scrolled": true
   },
   "outputs": [
    {
     "data": {
      "text/plain": [
       "count     9736.000000\n",
       "mean        97.434881\n",
       "std        684.168697\n",
       "min          3.000000\n",
       "25%          5.000000\n",
       "50%          9.000000\n",
       "75%         19.000000\n",
       "max      29245.000000\n",
       "Name: flow_hash, dtype: float64"
      ]
     },
     "execution_count": 1,
     "metadata": {},
     "output_type": "execute_result"
    }
   ],
   "source": [
    "packet_counts.describe()"
   ]
  },
  {
   "cell_type": "markdown",
   "metadata": {},
   "source": [
    "50% of flows longer than 3 packets have at most 8 packets. To enable an\n",
    "on-path observer to collect a single RTT sample requires adding a header to at\n",
    "least three packets. The measurement header for RTT measurement carries two\n",
    "timestamps ($t_{now}$, $t_{echo}$). Even if the timestamps are taken relative to\n",
    "the beginning of the flow and each use fewer, say, 16 bits, the effective number\n",
    "of this bits per packet for a flow of 8 packets would be 16. Thus, the spin bit\n",
    "\\- if it achieves similar accuracy - is more efficient in the common case.\n",
    "\n",
    "This is the distribution of flow lenghts, considering only flows between 3 and 100 packets:"
   ]
  },
  {
   "cell_type": "code",
   "execution_count": null,
   "metadata": {
    "keep_output": true,
    "scrolled": true
   },
   "outputs": [
    {
     "data": {
      "application/pdf": "[encoded data removed]",
      "image/png": "[encoded data removed]",
      "text/plain": [
       "<matplotlib.figure.Figure at 0x12d647da0>"
      ]
     },
     "metadata": {},
     "output_type": "display_data"
    }
   ],
   "source": [
    "from itertools import chain\n",
    "ax = packet_counts.clip(0, 100).hist(bins=40, figsize=(8,4))\n",
    "ax.set_title('Distribution of flow lengths')\n",
    "_ = ax.set_xticklabels(chain.from_iterable([range(-20, 90, 20), ['≥ 100']]))"
   ]
  },
  {
   "cell_type": "markdown",
   "metadata": {},
   "source": [
    "The ratio of the values above 100 is"
   ]
  },
  {
   "cell_type": "code",
   "execution_count": null,
   "metadata": {},
   "outputs": [],
   "source": [
    "len(packet_counts[packet_counts >= 100]) / len(packet_counts)"
   ]
  },
  {
   "cell_type": "markdown",
   "metadata": {},
   "source": [
    "Let's consider the payload lengths: They have been set to zero in the MAWI traces. If this were not the case, we could discriminate between zero and nonzero payloads and only consider `TSval`s from nonzero payloads, which would prevent getting RTTs that correspond to breaks in communication."
   ]
  },
  {
   "cell_type": "code",
   "execution_count": null,
   "metadata": {
    "keep_output": true
   },
   "outputs": [
    {
     "data": {
      "text/plain": [
       "0    948626\n",
       "Name: payload_length, dtype: int64"
      ]
     },
     "execution_count": 1,
     "metadata": {},
     "output_type": "execute_result"
    }
   ],
   "source": [
    "tcp_df['payload_length'].value_counts()"
   ]
  }
 ],
 "metadata": {
  "kernelspec": {
   "display_name": "Python 3",
   "language": "python",
   "name": "python3"
  },
  "language_info": {
   "codemirror_mode": {
    "name": "ipython",
    "version": 3
   },
   "file_extension": ".py",
   "mimetype": "text/x-python",
   "name": "python",
   "nbconvert_exporter": "python",
   "pygments_lexer": "ipython3",
   "version": "3.6.4"
  }
 },
 "nbformat": 4,
 "nbformat_minor": 2
}
